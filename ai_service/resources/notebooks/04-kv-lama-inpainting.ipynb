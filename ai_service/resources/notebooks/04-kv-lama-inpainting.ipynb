{
 "cells": [
  {
   "cell_type": "code",
   "id": "9635e7af-9d99-46eb-a4ba-074d95774995",
   "metadata": {},
   "source": [
    "from simple_lama_inpainting import SimpleLama\n",
    "from PIL import Image\n",
    "\n",
    "simple_lama = SimpleLama()"
   ],
   "outputs": [],
   "execution_count": null
  },
  {
   "cell_type": "code",
   "id": "4adb2bde-1824-4a3c-84e3-36e8850f6099",
   "metadata": {},
   "source": [
    "img_path = \"image.png\"\n",
    "mask_path = \"mask.png\"\n",
    "\n",
    "image = Image.open(img_path)\n",
    "mask = Image.open(mask_path)\n",
    "\n",
    "result = simple_lama(image, mask)\n",
    "result.save(\"inpainted.png\")"
   ],
   "outputs": [],
   "execution_count": null
  },
  {
   "cell_type": "code",
   "id": "39f362cd-8631-4077-a428-bf1b4f94e3f4",
   "metadata": {},
   "source": [],
   "outputs": [],
   "execution_count": null
  }
 ],
 "metadata": {
  "kernelspec": {
   "display_name": "Python 3.10",
   "language": "python",
   "name": "py3.10"
  },
  "language_info": {
   "codemirror_mode": {
    "name": "ipython",
    "version": 3
   },
   "file_extension": ".py",
   "mimetype": "text/x-python",
   "name": "python",
   "nbconvert_exporter": "python",
   "pygments_lexer": "ipython3",
   "version": "3.10.12"
  }
 },
 "nbformat": 4,
 "nbformat_minor": 5
}
