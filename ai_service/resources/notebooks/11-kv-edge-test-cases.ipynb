{
 "cells": [
  {
   "cell_type": "code",
   "id": "initial_id",
   "metadata": {
    "collapsed": true,
    "ExecuteTime": {
     "end_time": "2024-11-21T23:28:33.511882Z",
     "start_time": "2024-11-21T23:28:33.507842Z"
    }
   },
   "source": [
    "from PIL import Image\n",
    "import numpy as np\n",
    "import random\n",
    "\n",
    "# 2x2 Small Image with random colors\n",
    "small_image = Image.new('RGB', (9, 9), \"white\")\n",
    "small_pixels = small_image.load()\n",
    "for x in range(2):\n",
    "    for y in range(2):\n",
    "        small_pixels[x, y] = (random.randint(0, 255), random.randint(0, 255), random.randint(0, 255))\n",
    "\n",
    "# # 10,000 x 10,000 Large Image with one uniform color\n",
    "# large_image = Image.new('RGB', (10000, 10000), (255, 0, 0))  # Red color as example\n",
    "# large_pixel = large_image.load()\n",
    "# for x in range(10000):\n",
    "#     for y in range(10000):\n",
    "#         large_pixel[x, y] = (random.randint(0, 255), random.randint(0, 255), random.randint(0, 255))"
   ],
   "outputs": [],
   "execution_count": 51
  },
  {
   "metadata": {
    "ExecuteTime": {
     "end_time": "2024-11-21T23:11:31.117991Z",
     "start_time": "2024-11-21T23:11:16.907480Z"
    }
   },
   "cell_type": "code",
   "source": [
    "from image_processing.invoker import Invoker\n",
    "\n",
    "request_dict = {}\n",
    "invoker = Invoker()"
   ],
   "id": "2091211a5a112bbd",
   "outputs": [
    {
     "name": "stdout",
     "output_type": "stream",
     "text": [
      "GPU not available. Using CPU instead.\n"
     ]
    },
    {
     "name": "stderr",
     "output_type": "stream",
     "text": [
      "/home/katsiaryna/Projects/Vivid-panda/ai_service/.venv/lib/python3.10/site-packages/fastai/data_block.py:451: UserWarning: Your training set is empty. If this is by design, pass `ignore_empty=True` to remove this warning.\n",
      "  warn(\"Your training set is empty. If this is by design, pass `ignore_empty=True` to remove this warning.\")\n",
      "/home/katsiaryna/Projects/Vivid-panda/ai_service/.venv/lib/python3.10/site-packages/fastai/data_block.py:453: UserWarning: Your validation set is empty. If this is by design, use `split_none()`\n",
      "                 or pass `ignore_empty=True` when labelling to remove this warning.\n",
      "  warn(\"\"\"Your validation set is empty. If this is by design, use `split_none()`\n",
      "/home/katsiaryna/Projects/Vivid-panda/ai_service/.venv/lib/python3.10/site-packages/torchvision/models/_utils.py:208: UserWarning: The parameter 'pretrained' is deprecated since 0.13 and may be removed in the future, please use 'weights' instead.\n",
      "  warnings.warn(\n",
      "/home/katsiaryna/Projects/Vivid-panda/ai_service/.venv/lib/python3.10/site-packages/torchvision/models/_utils.py:223: UserWarning: Arguments other than a weight enum or `None` for 'weights' are deprecated since 0.13 and may be removed in the future. The current behavior is equivalent to passing `weights=ResNet101_Weights.IMAGENET1K_V1`. You can also use `weights=ResNet101_Weights.DEFAULT` to get the most up-to-date weights.\n",
      "  warnings.warn(msg)\n",
      "/home/katsiaryna/Projects/Vivid-panda/ai_service/.venv/lib/python3.10/site-packages/torch/nn/utils/weight_norm.py:143: FutureWarning: `torch.nn.utils.weight_norm` is deprecated in favor of `torch.nn.utils.parametrizations.weight_norm`.\n",
      "  WeightNorm.apply(module, name, dim)\n",
      "/home/katsiaryna/Projects/Vivid-panda/ai_service/.venv/lib/python3.10/site-packages/fastai/basic_train.py:322: FutureWarning: You are using `torch.load` with `weights_only=False` (the current default value), which uses the default pickle module implicitly. It is possible to construct malicious pickle data which will execute arbitrary code during unpickling (See https://github.com/pytorch/pytorch/blob/main/SECURITY.md#untrusted-models for more details). In a future release, the default value for `weights_only` will be flipped to `True`. This limits the functions that could be executed during unpickling. Arbitrary objects will no longer be allowed to be loaded via this mode unless they are explicitly allowlisted by the user via `torch.serialization.add_safe_globals`. We recommend you start setting `weights_only=True` for any use case where you don't have full control of the loaded file. Please open an issue on GitHub for any issues related to this experimental feature.\n",
      "  state = torch.load(tmp_file)\n",
      "/home/katsiaryna/Projects/Vivid-panda/ai_service/.venv/lib/python3.10/site-packages/fastai/basic_train.py:271: FutureWarning: You are using `torch.load` with `weights_only=False` (the current default value), which uses the default pickle module implicitly. It is possible to construct malicious pickle data which will execute arbitrary code during unpickling (See https://github.com/pytorch/pytorch/blob/main/SECURITY.md#untrusted-models for more details). In a future release, the default value for `weights_only` will be flipped to `True`. This limits the functions that could be executed during unpickling. Arbitrary objects will no longer be allowed to be loaded via this mode unless they are explicitly allowlisted by the user via `torch.serialization.add_safe_globals`. We recommend you start setting `weights_only=True` for any use case where you don't have full control of the loaded file. Please open an issue on GitHub for any issues related to this experimental feature.\n",
      "  state = torch.load(source, map_location=device)\n",
      "/home/katsiaryna/Projects/Vivid-panda/ai_service/image_processing/style_transfer/style_transfer_command.py:38: FutureWarning: You are using `torch.load` with `weights_only=False` (the current default value), which uses the default pickle module implicitly. It is possible to construct malicious pickle data which will execute arbitrary code during unpickling (See https://github.com/pytorch/pytorch/blob/main/SECURITY.md#untrusted-models for more details). In a future release, the default value for `weights_only` will be flipped to `True`. This limits the functions that could be executed during unpickling. Arbitrary objects will no longer be allowed to be loaded via this mode unless they are explicitly allowlisted by the user via `torch.serialization.add_safe_globals`. We recommend you start setting `weights_only=True` for any use case where you don't have full control of the loaded file. Please open an issue on GitHub for any issues related to this experimental feature.\n",
      "  vgg.load_state_dict(torch.load(vgg_path))\n",
      "/home/katsiaryna/Projects/Vivid-panda/ai_service/image_processing/style_transfer/style_transfer_command.py:47: FutureWarning: You are using `torch.load` with `weights_only=False` (the current default value), which uses the default pickle module implicitly. It is possible to construct malicious pickle data which will execute arbitrary code during unpickling (See https://github.com/pytorch/pytorch/blob/main/SECURITY.md#untrusted-models for more details). In a future release, the default value for `weights_only` will be flipped to `True`. This limits the functions that could be executed during unpickling. Arbitrary objects will no longer be allowed to be loaded via this mode unless they are explicitly allowlisted by the user via `torch.serialization.add_safe_globals`. We recommend you start setting `weights_only=True` for any use case where you don't have full control of the loaded file. Please open an issue on GitHub for any issues related to this experimental feature.\n",
      "  decoder.load_state_dict(torch.load(decoder_path))\n"
     ]
    }
   ],
   "execution_count": 1
  },
  {
   "metadata": {
    "ExecuteTime": {
     "end_time": "2024-11-21T23:11:35.745713Z",
     "start_time": "2024-11-21T23:11:35.740671Z"
    }
   },
   "cell_type": "code",
   "source": [
    "def display_images_side_by_side(image1, image2):\n",
    "    \"\"\"\n",
    "    Displays two PIL images side by side in a Jupyter notebook.\n",
    "    \n",
    "    Args:\n",
    "    - image1: The first PIL image.\n",
    "    - image2: The second PIL image.\n",
    "    \"\"\"\n",
    "    total_width = image1.width + image2.width\n",
    "    max_height = max(image1.height, image2.height)\n",
    "\n",
    "    new_image = Image.new(\"RGB\", (total_width, max_height))\n",
    "\n",
    "    new_image.paste(image1, (0, 0))\n",
    "    new_image.paste(image2, (image1.width, 0))\n",
    "\n",
    "    display(new_image)"
   ],
   "id": "961ab9eb43a6fb14",
   "outputs": [],
   "execution_count": 3
  },
  {
   "metadata": {
    "ExecuteTime": {
     "end_time": "2024-11-21T23:28:36.858059Z",
     "start_time": "2024-11-21T23:28:36.855114Z"
    }
   },
   "cell_type": "code",
   "source": "images = [small_image]",
   "id": "e8bcbb4d4cfd1c55",
   "outputs": [],
   "execution_count": 52
  },
  {
   "metadata": {
    "ExecuteTime": {
     "end_time": "2024-11-21T23:11:37.125669Z",
     "start_time": "2024-11-21T23:11:37.123114Z"
    }
   },
   "cell_type": "code",
   "source": [
    "request_dict[\"type\"] = \"colorize_image\"\n",
    "request_dict[\"params\"] = {}"
   ],
   "id": "d691a21a4324c5a1",
   "outputs": [],
   "execution_count": 5
  },
  {
   "metadata": {
    "ExecuteTime": {
     "end_time": "2024-11-21T23:11:51.785575Z",
     "start_time": "2024-11-21T23:11:37.783696Z"
    }
   },
   "cell_type": "code",
   "source": [
    "colorization_results = []\n",
    "for image in images:\n",
    "    request_dict[\"params\"][\"image\"] = image\n",
    "    colorization_results.append(invoker.process_request(request_dict))"
   ],
   "id": "7d0580f32f91cd1e",
   "outputs": [],
   "execution_count": 6
  },
  {
   "metadata": {
    "ExecuteTime": {
     "end_time": "2024-11-21T23:11:51.800311Z",
     "start_time": "2024-11-21T23:11:51.792626Z"
    }
   },
   "cell_type": "code",
   "source": "display_images_side_by_side(images[0], colorization_results[0])",
   "id": "2c3ce00fbbb51244",
   "outputs": [
    {
     "data": {
      "text/plain": [
       "<PIL.Image.Image image mode=RGB size=4x2>"
      ],
      "image/png": "[encoded data removed]"
     },
     "metadata": {},
     "output_type": "display_data"
    }
   ],
   "execution_count": 7
  },
  {
   "metadata": {
    "ExecuteTime": {
     "end_time": "2024-11-21T23:11:54.653532Z",
     "start_time": "2024-11-21T23:11:54.650389Z"
    }
   },
   "cell_type": "code",
   "source": [
    "request_dict[\"type\"] = \"upscale\"\n",
    "request_dict[\"params\"] = {}"
   ],
   "id": "656f670d4982cb77",
   "outputs": [],
   "execution_count": 8
  },
  {
   "metadata": {
    "ExecuteTime": {
     "end_time": "2024-11-21T23:12:17.907803Z",
     "start_time": "2024-11-21T23:12:17.828033Z"
    }
   },
   "cell_type": "code",
   "source": [
    "upscaling_results = []\n",
    "for image in images:\n",
    "    request_dict[\"params\"][\"image\"] = image\n",
    "    upscaling_results.append(invoker.process_request(request_dict))"
   ],
   "id": "8bfe3b3bc20de949",
   "outputs": [],
   "execution_count": 9
  },
  {
   "metadata": {
    "ExecuteTime": {
     "end_time": "2024-11-21T23:20:54.726769Z",
     "start_time": "2024-11-21T23:20:54.560086Z"
    }
   },
   "cell_type": "code",
   "source": "upscaling_results[0]",
   "id": "7c09a7860f28e4c3",
   "outputs": [
    {
     "data": {
      "text/plain": [
       "<PIL.Image.Image image mode=RGB size=8x8>"
      ],
      "image/png": "[encoded data removed]"
     },
     "execution_count": 11,
     "metadata": {},
     "output_type": "execute_result"
    }
   ],
   "execution_count": 11
  },
  {
   "metadata": {
    "ExecuteTime": {
     "end_time": "2024-11-21T23:28:26.050379Z",
     "start_time": "2024-11-21T23:28:26.046920Z"
    }
   },
   "cell_type": "code",
   "source": [
    "mask = Image.new('L', (9, 9), \"black\")\n",
    "mask_pixels = mask.load()\n",
    "mask_pixels[0, 0] = 0\n",
    "mask_pixels[1, 0] = 255\n",
    "mask_pixels[0, 1] = 0\n",
    "mask_pixels[1, 1] = 255"
   ],
   "id": "5a6e1bd15d131841",
   "outputs": [],
   "execution_count": 50
  },
  {
   "metadata": {
    "ExecuteTime": {
     "end_time": "2024-11-21T23:23:07.529Z",
     "start_time": "2024-11-21T23:23:07.524767Z"
    }
   },
   "cell_type": "code",
   "source": [
    "request_dict[\"type\"] = \"delete_object\"\n",
    "request_dict[\"params\"] = {}"
   ],
   "id": "5d05296849e2212d",
   "outputs": [],
   "execution_count": 17
  },
  {
   "metadata": {
    "ExecuteTime": {
     "end_time": "2024-11-21T23:28:40.795983Z",
     "start_time": "2024-11-21T23:28:40.759581Z"
    }
   },
   "cell_type": "code",
   "source": [
    "inpainting_results = []\n",
    "for image in images:\n",
    "    request_dict[\"params\"][\"image\"] = image\n",
    "    request_dict[\"params\"][\"mask\"] = mask\n",
    "    inpainting_results.append(invoker.process_request(request_dict))"
   ],
   "id": "645a0f5293b61d40",
   "outputs": [],
   "execution_count": 53
  },
  {
   "metadata": {
    "ExecuteTime": {
     "end_time": "2024-11-21T23:27:45.209526Z",
     "start_time": "2024-11-21T23:27:45.204960Z"
    }
   },
   "cell_type": "code",
   "source": "inpainting_results[0]",
   "id": "4a07162a6dc52fe5",
   "outputs": [
    {
     "data": {
      "text/plain": [
       "<PIL.Image.Image image mode=RGB size=16x16>"
      ],
      "image/png": "[encoded data removed]"
     },
     "execution_count": 41,
     "metadata": {},
     "output_type": "execute_result"
    }
   ],
   "execution_count": 41
  },
  {
   "metadata": {},
   "cell_type": "code",
   "outputs": [],
   "execution_count": null,
   "source": "",
   "id": "f860549c78fcf793"
  }
 ],
 "metadata": {
  "kernelspec": {
   "display_name": "Python 3",
   "language": "python",
   "name": "python3"
  },
  "language_info": {
   "codemirror_mode": {
    "name": "ipython",
    "version": 2
   },
   "file_extension": ".py",
   "mimetype": "text/x-python",
   "name": "python",
   "nbconvert_exporter": "python",
   "pygments_lexer": "ipython2",
   "version": "2.7.6"
  }
 },
 "nbformat": 4,
 "nbformat_minor": 5
}
