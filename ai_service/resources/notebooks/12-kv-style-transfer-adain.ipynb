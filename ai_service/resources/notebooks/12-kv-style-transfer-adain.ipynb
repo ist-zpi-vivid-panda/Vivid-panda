{
 "cells": [
  {
   "cell_type": "code",
   "id": "c4fad423-98eb-4dd5-bb20-f6a4a5e83347",
   "metadata": {},
   "source": [
    "!git clone https://github.com/xunhuang1995/AdaIN-style.git"
   ],
   "outputs": [],
   "execution_count": null
  },
  {
   "cell_type": "code",
   "id": "01853203-1c52-410e-ab6a-29d1fe1fc6c5",
   "metadata": {},
   "source": [
    "!bash AdaIN-style/models/download_models.sh"
   ],
   "outputs": [],
   "execution_count": null
  },
  {
   "cell_type": "code",
   "id": "a06d3f74-f3e1-4187-97ee-534446c21f50",
   "metadata": {},
   "source": [
    "!git clone https://github.com/naoto0804/pytorch-AdaIN.git"
   ],
   "outputs": [],
   "execution_count": null
  },
  {
   "cell_type": "code",
   "id": "9e77bbe8-d1c9-4540-8916-573e95841fb9",
   "metadata": {},
   "source": [
    "!CUDA_VISIBLE_DEVICES=None python pytorch-AdaIN/test.py --content a.jpg --style woman_with_hat_matisse.jpg --alpha 0.8"
   ],
   "outputs": [],
   "execution_count": null
  },
  {
   "cell_type": "code",
   "id": "82d11a4b-dd49-4cfa-bf2c-1416d90a7d43",
   "metadata": {},
   "source": [
    "!CUDA_VISIBLE_DEVICES=None python pytorch-AdaIN/test.py --content a.jpg --style mondrian.jpg --alpha 0.8"
   ],
   "outputs": [],
   "execution_count": null
  },
  {
   "cell_type": "code",
   "id": "5aaf69dd-4a22-4a5c-91da-fa894daedd3b",
   "metadata": {},
   "source": [],
   "outputs": [],
   "execution_count": null
  }
 ],
 "metadata": {
  "kernelspec": {
   "display_name": "Python 3 (ipykernel)",
   "language": "python",
   "name": "python3"
  },
  "language_info": {
   "codemirror_mode": {
    "name": "ipython",
    "version": 3
   },
   "file_extension": ".py",
   "mimetype": "text/x-python",
   "name": "python",
   "nbconvert_exporter": "python",
   "pygments_lexer": "ipython3",
   "version": "3.10.12"
  }
 },
 "nbformat": 4,
 "nbformat_minor": 5
}
